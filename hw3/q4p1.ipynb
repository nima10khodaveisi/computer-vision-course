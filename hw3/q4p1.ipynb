{
 "cells": [
  {
   "cell_type": "code",
   "execution_count": 1,
   "id": "c2e4c05e",
   "metadata": {},
   "outputs": [],
   "source": [
    "import cv2\n",
    "from matplotlib import pyplot as plt\n",
    "import numpy as np"
   ]
  },
  {
   "cell_type": "code",
   "execution_count": 2,
   "id": "dbf8b1c0",
   "metadata": {},
   "outputs": [],
   "source": [
    "def fix_image_to_show(img):\n",
    "    image = img.copy()\n",
    "    image = image.astype('float32')\n",
    "    max_pixel = np.max(image)\n",
    "    min_pixel = np.min(image)\n",
    "    if max_pixel == min_pixel:\n",
    "        image[:, :, :] = 127\n",
    "        image = image.astype('uint8')\n",
    "        return image\n",
    "    m = 255 / (max_pixel - min_pixel)\n",
    "    image = image * m - min_pixel * m\n",
    "    image = image.astype('uint8')\n",
    "    return image\n",
    "\n",
    "def show_image(img, name=None, cmap=None):\n",
    "    image = img.copy()\n",
    "    image = fix_image_to_show(image)\n",
    "    plt.imshow(image, vmin=0, vmax=255, cmap=cmap)\n",
    "    plt.show()\n",
    "    if name is not None :\n",
    "        plt.imsave(name + '.jpg', image, cmap=cmap)"
   ]
  },
  {
   "cell_type": "code",
   "execution_count": 3,
   "id": "f3962e30",
   "metadata": {},
   "outputs": [],
   "source": [
    "import os \n",
    "directory = 'resources/Data/Train'\n",
    "files = os.listdir(directory)\n",
    "images = []\n",
    "class_list = []\n",
    "for file in files:\n",
    "    path = directory + '/' + file \n",
    "    image_names = os.listdir(path)\n",
    "    for image_name in image_names: \n",
    "        image = cv2.imread(path + '/' + image_name)\n",
    "        image = cv2.cvtColor(image, cv2.COLOR_BGR2RGB)\n",
    "        images.append(image)\n",
    "        class_list.append(file)"
   ]
  },
  {
   "cell_type": "code",
   "execution_count": 4,
   "id": "ae500fae",
   "metadata": {},
   "outputs": [],
   "source": [
    "def convert_image_size(images, size): \n",
    "    images_c = []\n",
    "    for image in images: \n",
    "        image = cv2.resize(image, size)\n",
    "        images_c.append(image)\n",
    "    return images_c\n",
    "        "
   ]
  },
  {
   "cell_type": "code",
   "execution_count": 5,
   "id": "6299aec4",
   "metadata": {},
   "outputs": [],
   "source": [
    "def L1_distance(image1, image2): \n",
    "    abs_image = np.abs(image1 - image2)\n",
    "    return np.sum(abs_image)\n",
    "\n",
    "def L2_distance(image1, image2):\n",
    "    dif_image = np.power(image1 - image2, 2)\n",
    "    return np.sum(dif_image)\n"
   ]
  },
  {
   "cell_type": "code",
   "execution_count": 6,
   "id": "f0a2cb90",
   "metadata": {},
   "outputs": [],
   "source": [
    "def predict_class_knn(images, image, k, distance_func):\n",
    "    global class_list \n",
    "    neighbours = list(range(len(images)))\n",
    "    neighbours.sort(key=lambda x: distance_func(images[x], image))\n",
    "    knn_class_list = list(map(lambda x: class_list[x], neighbours))\n",
    "    knn_class_list = knn_class_list[0: k]\n",
    "    knn_class_list_c = knn_class_list.copy()\n",
    "    knn_class_list.sort(key=lambda x: -knn_class_list_c.count(x))\n",
    "    return knn_class_list[0]"
   ]
  },
  {
   "cell_type": "code",
   "execution_count": 7,
   "id": "631f6f39",
   "metadata": {},
   "outputs": [],
   "source": [
    "import os \n",
    "directory = 'resources/Data/Test'\n",
    "files = os.listdir(directory)\n",
    "test_images = []\n",
    "test_class_list = []\n",
    "for file in files:\n",
    "    path = directory + '/' + file \n",
    "    image_names = os.listdir(path)\n",
    "    for image_name in image_names: \n",
    "        image = cv2.imread(path + '/' + image_name)\n",
    "        image = cv2.cvtColor(image, cv2.COLOR_BGR2RGB)\n",
    "        test_images.append(image)\n",
    "        test_class_list.append(file)\n",
    "        \n",
    "        "
   ]
  },
  {
   "cell_type": "code",
   "execution_count": 8,
   "id": "72b41f2e",
   "metadata": {},
   "outputs": [],
   "source": [
    "def predict_class(images, image, k, sz, d): \n",
    "    image = image.copy()\n",
    "    images = images.copy()\n",
    "    images = convert_image_size(images, (sz, sz))\n",
    "    image = cv2.resize(image, (sz, sz))\n",
    "    dis_func = L1_distance \n",
    "    if d == 1:\n",
    "        dis_func = L2_distance \n",
    "        \n",
    "    return predict_class_knn(images, image, k, dis_func)\n",
    "    "
   ]
  },
  {
   "cell_type": "code",
   "execution_count": null,
   "id": "3ff62e3a",
   "metadata": {},
   "outputs": [],
   "source": [
    "#brute force on k and size and distance function \n",
    "for k in range(1, 3, 2): \n",
    "    for sz in range(20, 21):\n",
    "        for d in range(1, 2): \n",
    "            correct = 0\n",
    "            for i in range(len(test_images)):\n",
    "                image = test_images[i]\n",
    "                predict = predict_class(images, image, k, sz, d)\n",
    "                if predict == test_class_list[i]:\n",
    "                    correct = correct + 1\n",
    "            \n",
    "            rate = (correct / len(test_images)) * 100\n",
    "            print(\"rate :\", k, sz, d , rate)"
   ]
  }
 ],
 "metadata": {
  "kernelspec": {
   "display_name": "Python 3",
   "language": "python",
   "name": "python3"
  },
  "language_info": {
   "codemirror_mode": {
    "name": "ipython",
    "version": 3
   },
   "file_extension": ".py",
   "mimetype": "text/x-python",
   "name": "python",
   "nbconvert_exporter": "python",
   "pygments_lexer": "ipython3",
   "version": "3.8.5"
  }
 },
 "nbformat": 4,
 "nbformat_minor": 5
}

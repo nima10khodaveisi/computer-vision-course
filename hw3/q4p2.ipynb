{
 "cells": [
  {
   "cell_type": "code",
   "execution_count": 1,
   "id": "14a13291",
   "metadata": {},
   "outputs": [
    {
     "name": "stdout",
     "output_type": "stream",
     "text": [
      "Requirement already satisfied: sklearn in /home/nima/.local/lib/python3.8/site-packages (0.0)\n",
      "Requirement already satisfied: scikit-learn in /home/nima/.local/lib/python3.8/site-packages (from sklearn) (0.24.2)\n",
      "Requirement already satisfied: scipy>=0.19.1 in /home/nima/.local/lib/python3.8/site-packages (from scikit-learn->sklearn) (1.6.3)\n",
      "Requirement already satisfied: threadpoolctl>=2.0.0 in /home/nima/.local/lib/python3.8/site-packages (from scikit-learn->sklearn) (2.1.0)\n",
      "Requirement already satisfied: joblib>=0.11 in /home/nima/.local/lib/python3.8/site-packages (from scikit-learn->sklearn) (1.0.1)\n",
      "Requirement already satisfied: numpy>=1.13.3 in /home/nima/.local/lib/python3.8/site-packages (from scikit-learn->sklearn) (1.20.2)\n"
     ]
    }
   ],
   "source": [
    "!pip3 install sklearn"
   ]
  },
  {
   "cell_type": "code",
   "execution_count": 2,
   "id": "eb9a810f",
   "metadata": {},
   "outputs": [],
   "source": [
    "import cv2\n",
    "from matplotlib import pyplot as plt\n",
    "import numpy as np\n",
    "import math\n",
    "from sklearn.cluster import KMeans"
   ]
  },
  {
   "cell_type": "code",
   "execution_count": 3,
   "id": "d039156b",
   "metadata": {},
   "outputs": [],
   "source": [
    "def fix_image_to_show(img):\n",
    "    image = img.copy()\n",
    "    image = image.astype('float32')\n",
    "    max_pixel = np.max(image)\n",
    "    min_pixel = np.min(image)\n",
    "    if max_pixel == min_pixel:\n",
    "        image[:, :, :] = 127\n",
    "        image = image.astype('uint8')\n",
    "        return image\n",
    "    m = 255 / (max_pixel - min_pixel)\n",
    "    image = image * m - min_pixel * m\n",
    "    image = image.astype('uint8')\n",
    "    return image\n",
    "\n",
    "def show_image(img, name=None, cmap=None):\n",
    "    image = img.copy()\n",
    "    image = fix_image_to_show(image)\n",
    "    plt.imshow(image, vmin=0, vmax=255, cmap=cmap)\n",
    "    plt.show()\n",
    "    if name is not None :\n",
    "        plt.imsave(name + '.jpg', image, cmap=cmap)"
   ]
  },
  {
   "cell_type": "code",
   "execution_count": 4,
   "id": "affd6a9b",
   "metadata": {},
   "outputs": [],
   "source": [
    "import os \n",
    "directory = 'resources/Data/Train'\n",
    "files = os.listdir(directory)\n",
    "images = []\n",
    "class_list = []\n",
    "for file in files:\n",
    "    path = directory + '/' + file \n",
    "    image_names = os.listdir(path)\n",
    "    for image_name in image_names: \n",
    "        image = cv2.imread(path + '/' + image_name)\n",
    "        image = cv2.cvtColor(image, cv2.COLOR_BGR2GRAY)\n",
    "        images.append(image)\n",
    "        class_list.append(file)"
   ]
  },
  {
   "cell_type": "code",
   "execution_count": null,
   "id": "d8f3f447",
   "metadata": {},
   "outputs": [],
   "source": [
    "# sift = cv2.SIFT_create()\n",
    "# kp1, desc1 = sift.detectAndCompute(image1, None)\n",
    "\n",
    "# extract feature vectors from all images \n",
    "\n",
    "min_kp = 100000\n",
    "\n",
    "feature_vectors = []\n",
    "\n",
    "sift = cv2.SIFT_create()\n",
    "\n",
    "deb = False\n",
    "\n",
    "n = 2 # 2n + 1\n",
    "\n",
    "for image in images: \n",
    "    kp, desc = sift.detectAndCompute(image, None)\n",
    "    for i in range(min(len(kp), min_kp)):\n",
    "        feature_vectors.append(desc[i])\n",
    "print(len(feature_vectors))"
   ]
  },
  {
   "cell_type": "code",
   "execution_count": null,
   "id": "0eaca722",
   "metadata": {},
   "outputs": [],
   "source": [
    "kmeans = KMeans(n_clusters=100, max_iter=300)\n",
    "feature_vectors = np.asarray(feature_vectors, dtype='uint8')\n",
    "kmeans.fit(feature_vectors)\n",
    "kmeans.labels_"
   ]
  },
  {
   "cell_type": "code",
   "execution_count": null,
   "id": "faa343a2",
   "metadata": {},
   "outputs": [],
   "source": [
    "kmeans.cluster_centers_"
   ]
  },
  {
   "cell_type": "code",
   "execution_count": null,
   "id": "63aea1ef",
   "metadata": {},
   "outputs": [],
   "source": [
    "def L1_distance(image1, image2): \n",
    "    abs_image = np.abs(image1 - image2)\n",
    "    return np.sum(abs_image)\n",
    "\n",
    "def L2_distance(image1, image2):\n",
    "    dif_image = np.power(image1 - image2, 2)\n",
    "    return np.sum(dif_image)\n",
    "\n",
    "\n",
    "\n",
    "centers = kmeans.cluster_centers_\n",
    "\n",
    "\n",
    "sift = cv2.SIFT_create()\n",
    "\n",
    "histograms = []\n",
    "\n",
    "for image in images: \n",
    "    kp, desc = sift.detectAndCompute(image, None)\n",
    "    hist = np.zeros((len(centers)), dtype='uint32')\n",
    "#     for i in range(len(kp)): \n",
    "#         # now we have vector \n",
    "#         cen = list(range(len(centers)))\n",
    "# #         mn = cen.sort(key=lambda x: L2_distance(centers[x], desc[i]))\n",
    "#         mn = min(cen, key=lambda x: L1_distance(centers[x], desc[i]))\n",
    "#         hist[mn] = hist[mn] + 1\n",
    "    for i in range(min(min_kp, len(kp))):\n",
    "        cen = list(range(len(centers)))\n",
    "        mn = min(cen, key=lambda x: L1_distance(centers[x], desc[i]))\n",
    "        hist[mn] = hist[mn] + 1\n",
    "        \n",
    "    hist = hist.astype('float32')\n",
    "    hist /= np.sum(hist)\n",
    "    histograms.append(hist)\n"
   ]
  },
  {
   "cell_type": "code",
   "execution_count": null,
   "id": "4ba2ed73",
   "metadata": {},
   "outputs": [],
   "source": [
    "hist_c = []\n",
    "for hist in histograms:\n",
    "    hist = hist.astype('float32')\n",
    "    hist /= np.sum(hist)\n",
    "    hist_c.append(hist)\n",
    "histograms = hist_c.copy()\n"
   ]
  },
  {
   "cell_type": "code",
   "execution_count": null,
   "id": "4016561e",
   "metadata": {},
   "outputs": [],
   "source": [
    "import os \n",
    "directory = 'resources/Data/Test'\n",
    "files = os.listdir(directory)\n",
    "test_images = []\n",
    "test_class_list = []\n",
    "for file in files:\n",
    "    path = directory + '/' + file \n",
    "    image_names = os.listdir(path)\n",
    "    for image_name in image_names: \n",
    "        image = cv2.imread(path + '/' + image_name)\n",
    "        image = cv2.cvtColor(image, cv2.COLOR_BGR2GRAY)\n",
    "        test_images.append(image)\n",
    "        test_class_list.append(file)\n",
    "        \n",
    "        "
   ]
  },
  {
   "cell_type": "code",
   "execution_count": null,
   "id": "1f8c29c8",
   "metadata": {},
   "outputs": [],
   "source": [
    "def predict_class_bow(image, k):\n",
    "    kp, desc = sift.detectAndCompute(image, None)\n",
    "    hist = np.zeros((len(centers)), dtype='uint64')\n",
    "    for i in range(len(kp)):\n",
    "        \n",
    "        # now we have vector \n",
    "        cen = list(range(len(centers)))\n",
    "#         cen.sort(key=lambda x: L2_distance(centers[x], desc[i])\n",
    "        mn = min(cen, key=lambda x: L1_distance(centers[x], desc[i]))\n",
    "        hist[mn] = hist[mn] + 1\n",
    "        \n",
    "    hist = hist.astype('float32')\n",
    "    hist /= np.sum(hist)\n",
    "    # find nearest to histogram\n",
    "    h_ind = list(range(len(histograms)))\n",
    "    h_ind.sort(key=lambda x: L1_distance(histograms[x], hist))\n",
    "    bow_class_list = list(map(lambda x: class_list[x], h_ind))\n",
    "    bow_class_list = bow_class_list[0: k]\n",
    "    bow_class_list_c = bow_class_list.copy()\n",
    "    bow_class_list.sort(key=lambda x: -bow_class_list_c.count(x))\n",
    "    return bow_class_list[0]"
   ]
  },
  {
   "cell_type": "code",
   "execution_count": null,
   "id": "f5c19455",
   "metadata": {},
   "outputs": [],
   "source": [
    "correct = 0\n",
    "for i in range(len(test_images)):\n",
    "    image = test_images[i]\n",
    "    image_class = test_class_list[i]\n",
    "    if predict_class_bow(image, 30) == image_class:\n",
    "        correct = correct + 1\n",
    "print(correct)"
   ]
  },
  {
   "cell_type": "code",
   "execution_count": null,
   "id": "312f4d37",
   "metadata": {},
   "outputs": [],
   "source": [
    "print((correct / len(test_images)) * 100)"
   ]
  },
  {
   "cell_type": "code",
   "execution_count": null,
   "id": "5584cd7c",
   "metadata": {},
   "outputs": [],
   "source": [
    "from sklearn.pipeline import make_pipeline\n",
    "from sklearn.preprocessing import StandardScaler\n",
    "\n",
    "X = histograms.copy()\n",
    "Y = class_list\n",
    "\n",
    "\n",
    "from sklearn.svm import SVC\n",
    "clf = make_pipeline(StandardScaler(), SVC(gamma='auto'))\n",
    "clf.fit(X, Y)"
   ]
  },
  {
   "cell_type": "code",
   "execution_count": null,
   "id": "31759082",
   "metadata": {},
   "outputs": [],
   "source": [
    "def predict_class_svm(image): \n",
    "    global clf \n",
    "    kp, desc = sift.detectAndCompute(image, None)\n",
    "    hist = np.zeros((len(centers)), dtype='uint32')\n",
    "    for i in range(min(min_kp, len(kp))):\n",
    "        \n",
    "        # now we have vector \n",
    "        cen = list(range(len(centers)))\n",
    "#         cen.sort(key=lambda x: L2_distance(centers[x], desc[i])\n",
    "        mn = min(cen, key=lambda x: L1_distance(centers[x], desc[i]))\n",
    "        hist[mn] = hist[mn] + 1\n",
    "    hist = hist.astype('float32')\n",
    "    hist /= np.sum(hist)\n",
    "    return clf.predict(hist.reshape(1, -1))"
   ]
  },
  {
   "cell_type": "code",
   "execution_count": null,
   "id": "8ec010b7",
   "metadata": {},
   "outputs": [],
   "source": [
    "# show_image(test_images[0])\n",
    "# print(predict_class_svm(test_images[0])[0])\n",
    "correct = 0\n",
    "for i in range(len(test_images)):\n",
    "    image = test_images[i]\n",
    "    image_class = test_class_list[i]\n",
    "    predict = predict_class_svm(image)[0]\n",
    "    if predict == image_class:\n",
    "        correct = correct + 1\n",
    "print(correct)"
   ]
  },
  {
   "cell_type": "code",
   "execution_count": null,
   "id": "7b9d85c0",
   "metadata": {},
   "outputs": [],
   "source": [
    "print(correct / len(test_images) * 100)"
   ]
  }
 ],
 "metadata": {
  "kernelspec": {
   "display_name": "Python 3",
   "language": "python",
   "name": "python3"
  },
  "language_info": {
   "codemirror_mode": {
    "name": "ipython",
    "version": 3
   },
   "file_extension": ".py",
   "mimetype": "text/x-python",
   "name": "python",
   "nbconvert_exporter": "python",
   "pygments_lexer": "ipython3",
   "version": "3.8.5"
  }
 },
 "nbformat": 4,
 "nbformat_minor": 5
}

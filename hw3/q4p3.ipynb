{
 "cells": [
  {
   "cell_type": "code",
   "execution_count": null,
   "id": "a91bee63",
   "metadata": {},
   "outputs": [],
   "source": []
  },
  {
   "cell_type": "code",
   "execution_count": 46,
   "id": "897e4f16",
   "metadata": {},
   "outputs": [
    {
     "name": "stdout",
     "output_type": "stream",
     "text": [
      "Collecting sklearn\n",
      "  Using cached sklearn-0.0.tar.gz (1.1 kB)\n",
      "Collecting scikit-learn\n",
      "  Downloading scikit_learn-0.24.2-cp38-cp38-manylinux2010_x86_64.whl (24.9 MB)\n",
      "\u001b[K     |████████████████████████████████| 24.9 MB 23 kB/s  eta 0:00:01    |█████▎                          | 4.1 MB 2.7 MB/s eta 0:00:08\n",
      "\u001b[?25hRequirement already satisfied: numpy>=1.13.3 in /home/nima/.local/lib/python3.8/site-packages (from scikit-learn->sklearn) (1.20.2)\n",
      "Collecting scipy>=0.19.1\n",
      "  Downloading scipy-1.6.3-cp38-cp38-manylinux1_x86_64.whl (27.2 MB)\n",
      "\u001b[K     |████████████████████████████████| 27.2 MB 12.0 MB/s eta 0:00:01\n",
      "\u001b[?25hCollecting joblib>=0.11\n",
      "  Downloading joblib-1.0.1-py3-none-any.whl (303 kB)\n",
      "\u001b[K     |████████████████████████████████| 303 kB 2.0 MB/s eta 0:00:01\n",
      "\u001b[?25hCollecting threadpoolctl>=2.0.0\n",
      "  Using cached threadpoolctl-2.1.0-py3-none-any.whl (12 kB)\n",
      "Building wheels for collected packages: sklearn\n",
      "  Building wheel for sklearn (setup.py) ... \u001b[?25ldone\n",
      "\u001b[?25h  Created wheel for sklearn: filename=sklearn-0.0-py2.py3-none-any.whl size=1315 sha256=b54ee409aa46e3532361a592be193015036a4df36dec02dbf191878a6ccb66d8\n",
      "  Stored in directory: /home/nima/.cache/pip/wheels/22/0b/40/fd3f795caaa1fb4c6cb738bc1f56100be1e57da95849bfc897\n",
      "Successfully built sklearn\n",
      "Installing collected packages: scipy, joblib, threadpoolctl, scikit-learn, sklearn\n",
      "Successfully installed joblib-1.0.1 scikit-learn-0.24.2 scipy-1.6.3 sklearn-0.0 threadpoolctl-2.1.0\n"
     ]
    }
   ],
   "source": [
    "!pip3 install sklearn"
   ]
  },
  {
   "cell_type": "code",
   "execution_count": 3,
   "id": "7a2675ff",
   "metadata": {},
   "outputs": [],
   "source": [
    "import cv2\n",
    "from matplotlib import pyplot as plt\n",
    "import numpy as np\n",
    "import math\n",
    "from sklearn.cluster import KMeans"
   ]
  },
  {
   "cell_type": "code",
   "execution_count": 4,
   "id": "cda04f6d",
   "metadata": {},
   "outputs": [],
   "source": [
    "def fix_image_to_show(img):\n",
    "    image = img.copy()\n",
    "    image = image.astype('float32')\n",
    "    max_pixel = np.max(image)\n",
    "    min_pixel = np.min(image)\n",
    "    if max_pixel == min_pixel:\n",
    "        image[:, :, :] = 127\n",
    "        image = image.astype('uint8')\n",
    "        return image\n",
    "    m = 255 / (max_pixel - min_pixel)\n",
    "    image = image * m - min_pixel * m\n",
    "    image = image.astype('uint8')\n",
    "    return image\n",
    "\n",
    "def show_image(img, name=None, cmap=None):\n",
    "    image = img.copy()\n",
    "    image = fix_image_to_show(image)\n",
    "    plt.imshow(image, vmin=0, vmax=255, cmap=cmap)\n",
    "    plt.show()\n",
    "    if name is not None :\n",
    "        plt.imsave(name + '.jpg', image, cmap=cmap)"
   ]
  },
  {
   "cell_type": "code",
   "execution_count": 5,
   "id": "35fe0d96",
   "metadata": {},
   "outputs": [],
   "source": [
    "import os \n",
    "directory = 'resources/Data/Train'\n",
    "files = os.listdir(directory)\n",
    "images = []\n",
    "class_list = []\n",
    "for file in files:\n",
    "    path = directory + '/' + file \n",
    "    image_names = os.listdir(path)\n",
    "    for image_name in image_names: \n",
    "        image = cv2.imread(path + '/' + image_name)\n",
    "        image = cv2.cvtColor(image, cv2.COLOR_BGR2GRAY)\n",
    "        images.append(image)\n",
    "        class_list.append(file)"
   ]
  },
  {
   "cell_type": "code",
   "execution_count": 61,
   "id": "9ce563ae",
   "metadata": {},
   "outputs": [
    {
     "name": "stdout",
     "output_type": "stream",
     "text": [
      "1540388\n"
     ]
    }
   ],
   "source": [
    "# sift = cv2.SIFT_create()\n",
    "# kp1, desc1 = sift.detectAndCompute(image1, None)\n",
    "\n",
    "# extract feature vectors from all images \n",
    "\n",
    "min_kp = 100000\n",
    "\n",
    "feature_vectors = []\n",
    "\n",
    "sift = cv2.SIFT_create()\n",
    "\n",
    "deb = False\n",
    "\n",
    "n = 2 # 2n + 1\n",
    "\n",
    "for image in images: \n",
    "    kp, desc = sift.detectAndCompute(image, None)\n",
    "    for i in range(min(len(kp), min_kp)):\n",
    "        feature_vectors.append(desc[i])\n",
    "print(len(feature_vectors))"
   ]
  },
  {
   "cell_type": "code",
   "execution_count": 62,
   "id": "cb19749d",
   "metadata": {},
   "outputs": [
    {
     "data": {
      "text/plain": [
       "array([14, 14, 72, ..., 66, 17, 43], dtype=int32)"
      ]
     },
     "execution_count": 62,
     "metadata": {},
     "output_type": "execute_result"
    }
   ],
   "source": [
    "kmeans = KMeans(n_clusters=100, max_iter=300)\n",
    "feature_vectors = np.asarray(feature_vectors, dtype='uint8')\n",
    "kmeans.fit(feature_vectors)\n",
    "kmeans.labels_"
   ]
  },
  {
   "cell_type": "code",
   "execution_count": 63,
   "id": "0ad4a7d8",
   "metadata": {},
   "outputs": [
    {
     "data": {
      "text/plain": [
       "array([[19.95703009, 26.67173071, 28.45248734, ...,  8.72184987,\n",
       "        10.53224605, 20.87257968],\n",
       "       [13.57895416, 14.45309175, 17.90618351, ...,  7.08820685,\n",
       "        10.39744664, 11.61544909],\n",
       "       [13.09318477, 11.99305503, 17.48920095, ..., 14.60917347,\n",
       "        12.88941464, 10.54369228],\n",
       "       ...,\n",
       "       [12.33400777,  7.58477053,  9.26675659, ...,  4.65712818,\n",
       "         3.44580403,  7.58554132],\n",
       "       [23.43721169, 20.62826756, 20.60994362, ..., 10.38307278,\n",
       "        16.42414147, 16.30189646],\n",
       "       [52.68442086, 13.76731207, 10.46558258, ..., 11.21642665,\n",
       "        10.76124854, 18.15200165]])"
      ]
     },
     "execution_count": 63,
     "metadata": {},
     "output_type": "execute_result"
    }
   ],
   "source": [
    "kmeans.cluster_centers_"
   ]
  },
  {
   "cell_type": "code",
   "execution_count": 64,
   "id": "422f6d4b",
   "metadata": {},
   "outputs": [],
   "source": [
    "def L1_distance(image1, image2): \n",
    "    abs_image = np.abs(image1 - image2)\n",
    "    return np.sum(abs_image)\n",
    "\n",
    "def L2_distance(image1, image2):\n",
    "    dif_image = np.power(image1 - image2, 2)\n",
    "    return np.sum(dif_image)\n",
    "\n",
    "\n",
    "\n",
    "centers = kmeans.cluster_centers_\n",
    "\n",
    "\n",
    "sift = cv2.SIFT_create()\n",
    "\n",
    "histograms = []\n",
    "\n",
    "for image in images: \n",
    "    kp, desc = sift.detectAndCompute(image, None)\n",
    "    hist = np.zeros((len(centers)), dtype='uint32')\n",
    "    for i in range(min(min_kp, len(kp))):\n",
    "        cen = list(range(len(centers)))\n",
    "        mn = min(cen, key=lambda x: L1_distance(centers[x], desc[i]))\n",
    "        hist[mn] = hist[mn] + 1\n",
    "        \n",
    "    hist = hist.astype('float32')\n",
    "    hist /= np.sum(hist)\n",
    "    histograms.append(hist)\n"
   ]
  },
  {
   "cell_type": "code",
   "execution_count": 65,
   "id": "212844d6",
   "metadata": {},
   "outputs": [],
   "source": [
    "import os \n",
    "directory = 'resources/Data/Test'\n",
    "files = os.listdir(directory)\n",
    "test_images = []\n",
    "test_class_list = []\n",
    "for file in files:\n",
    "    path = directory + '/' + file \n",
    "    image_names = os.listdir(path)\n",
    "    for image_name in image_names: \n",
    "        image = cv2.imread(path + '/' + image_name)\n",
    "        image = cv2.cvtColor(image, cv2.COLOR_BGR2GRAY)\n",
    "        test_images.append(image)\n",
    "        test_class_list.append(file)\n",
    "        \n",
    "        "
   ]
  },
  {
   "cell_type": "code",
   "execution_count": 66,
   "id": "6d5d010e",
   "metadata": {},
   "outputs": [
    {
     "data": {
      "text/plain": [
       "Pipeline(steps=[('standardscaler', StandardScaler()),\n",
       "                ('svc', SVC(gamma='auto'))])"
      ]
     },
     "execution_count": 66,
     "metadata": {},
     "output_type": "execute_result"
    }
   ],
   "source": [
    "from sklearn.pipeline import make_pipeline\n",
    "from sklearn.preprocessing import StandardScaler\n",
    "\n",
    "X = histograms.copy()\n",
    "Y = class_list\n",
    "\n",
    "\n",
    "from sklearn.svm import SVC\n",
    "clf = make_pipeline(StandardScaler(), SVC(gamma='auto'))\n",
    "clf.fit(X, Y)"
   ]
  },
  {
   "cell_type": "code",
   "execution_count": 67,
   "id": "31015161",
   "metadata": {},
   "outputs": [],
   "source": [
    "def predict_class_svm(image): \n",
    "    global clf \n",
    "    kp, desc = sift.detectAndCompute(image, None)\n",
    "    hist = np.zeros((len(centers)), dtype='uint32')\n",
    "    for i in range(min(min_kp, len(kp))):\n",
    "        \n",
    "        # now we have vector \n",
    "        cen = list(range(len(centers)))\n",
    "#         cen.sort(key=lambda x: L2_distance(centers[x], desc[i])\n",
    "        mn = min(cen, key=lambda x: L1_distance(centers[x], desc[i]))\n",
    "        hist[mn] = hist[mn] + 1\n",
    "    hist = hist.astype('float32')\n",
    "    hist /= np.sum(hist)\n",
    "    return clf.predict(hist.reshape(1, -1))"
   ]
  },
  {
   "cell_type": "code",
   "execution_count": 68,
   "id": "4b516a5c",
   "metadata": {},
   "outputs": [
    {
     "name": "stdout",
     "output_type": "stream",
     "text": [
      "793\n"
     ]
    }
   ],
   "source": [
    "correct = 0\n",
    "for i in range(len(test_images)):\n",
    "    image = test_images[i]\n",
    "    image_class = test_class_list[i]\n",
    "    predict = predict_class_svm(image)[0]\n",
    "    if predict == image_class:\n",
    "        correct = correct + 1\n",
    "print(correct)"
   ]
  },
  {
   "cell_type": "code",
   "execution_count": 69,
   "id": "72a1be8e",
   "metadata": {},
   "outputs": [
    {
     "name": "stdout",
     "output_type": "stream",
     "text": [
      "52.86666666666666\n"
     ]
    }
   ],
   "source": [
    "print(correct / len(test_images) * 100)"
   ]
  }
 ],
 "metadata": {
  "kernelspec": {
   "display_name": "Python 3",
   "language": "python",
   "name": "python3"
  },
  "language_info": {
   "codemirror_mode": {
    "name": "ipython",
    "version": 3
   },
   "file_extension": ".py",
   "mimetype": "text/x-python",
   "name": "python",
   "nbconvert_exporter": "python",
   "pygments_lexer": "ipython3",
   "version": "3.8.5"
  }
 },
 "nbformat": 4,
 "nbformat_minor": 5
}
